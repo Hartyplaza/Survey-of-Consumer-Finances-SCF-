{
 "cells": [
  {
   "cell_type": "code",
   "execution_count": 1,
   "id": "53c80747",
   "metadata": {},
   "outputs": [],
   "source": [
    "import pandas as pd\n",
    "import zipfile\n",
    "from dash import Dash\n",
    "import plotly.express as px\n",
    "from dash import Input, Output, dcc, html\n",
    "from jupyter_dash import JupyterDash\n",
    "from scipy.stats.mstats import trimmed_var\n",
    "from sklearn.cluster import KMeans\n",
    "from sklearn.decomposition import PCA\n",
    "from sklearn.metrics import silhouette_score\n",
    "from sklearn.pipeline import make_pipeline\n",
    "from sklearn.preprocessing import StandardScaler\n"
   ]
  },
  {
   "cell_type": "code",
   "execution_count": 4,
   "id": "da1a0e86",
   "metadata": {},
   "outputs": [],
   "source": [
    "def wrangle(zip_file_path):\n",
    "\n",
    "    \"\"\"Read SCF data file into ``DataFrame``.\n",
    "\n",
    "    Returns only credit fearful individuals .\n",
    "\n",
    "    Parameters\n",
    "    ----------\n",
    "    filepath : str\n",
    "        Location of CSV file.\n",
    "    \"\"\"\n",
    "    with zipfile.ZipFile(zip_file_path, 'r') as z:\n",
    "        with z.open(z.namelist()[0]) as f:\n",
    "            df = pd.read_csv(f)\n",
    "    return df"
   ]
  },
  {
   "cell_type": "code",
   "execution_count": 5,
   "id": "e7c21c94",
   "metadata": {},
   "outputs": [],
   "source": [
    "df = wrangle('scfp2022excel.zip')"
   ]
  },
  {
   "cell_type": "code",
   "execution_count": 6,
   "id": "41fa51fa",
   "metadata": {},
   "outputs": [],
   "source": [
    "mask = df[\"TURNFEAR\"] == 1\n",
    "df_fear = df[mask]"
   ]
  },
  {
   "cell_type": "code",
   "execution_count": 7,
   "id": "bef4004d",
   "metadata": {},
   "outputs": [
    {
     "name": "stdout",
     "output_type": "stream",
     "text": [
      "(3839, 357)\n"
     ]
    },
    {
     "data": {
      "text/html": [
       "<div>\n",
       "<style scoped>\n",
       "    .dataframe tbody tr th:only-of-type {\n",
       "        vertical-align: middle;\n",
       "    }\n",
       "\n",
       "    .dataframe tbody tr th {\n",
       "        vertical-align: top;\n",
       "    }\n",
       "\n",
       "    .dataframe thead th {\n",
       "        text-align: right;\n",
       "    }\n",
       "</style>\n",
       "<table border=\"1\" class=\"dataframe\">\n",
       "  <thead>\n",
       "    <tr style=\"text-align: right;\">\n",
       "      <th></th>\n",
       "      <th>YY1</th>\n",
       "      <th>Y1</th>\n",
       "      <th>WGT</th>\n",
       "      <th>HHSEX</th>\n",
       "      <th>AGE</th>\n",
       "      <th>AGECL</th>\n",
       "      <th>EDUC</th>\n",
       "      <th>EDCL</th>\n",
       "      <th>MARRIED</th>\n",
       "      <th>KIDS</th>\n",
       "      <th>...</th>\n",
       "      <th>NWCAT</th>\n",
       "      <th>INCCAT</th>\n",
       "      <th>ASSETCAT</th>\n",
       "      <th>NINCCAT</th>\n",
       "      <th>NINC2CAT</th>\n",
       "      <th>NWPCTLECAT</th>\n",
       "      <th>INCPCTLECAT</th>\n",
       "      <th>NINCPCTLECAT</th>\n",
       "      <th>INCQRTCAT</th>\n",
       "      <th>NINCQRTCAT</th>\n",
       "    </tr>\n",
       "  </thead>\n",
       "  <tbody>\n",
       "    <tr>\n",
       "      <th>20</th>\n",
       "      <td>5</td>\n",
       "      <td>51</td>\n",
       "      <td>7191.481109</td>\n",
       "      <td>2</td>\n",
       "      <td>19</td>\n",
       "      <td>1</td>\n",
       "      <td>8</td>\n",
       "      <td>2</td>\n",
       "      <td>1</td>\n",
       "      <td>0</td>\n",
       "      <td>...</td>\n",
       "      <td>1</td>\n",
       "      <td>3</td>\n",
       "      <td>1</td>\n",
       "      <td>2</td>\n",
       "      <td>1</td>\n",
       "      <td>2</td>\n",
       "      <td>5</td>\n",
       "      <td>4</td>\n",
       "      <td>2</td>\n",
       "      <td>2</td>\n",
       "    </tr>\n",
       "    <tr>\n",
       "      <th>21</th>\n",
       "      <td>5</td>\n",
       "      <td>52</td>\n",
       "      <td>7352.487205</td>\n",
       "      <td>2</td>\n",
       "      <td>19</td>\n",
       "      <td>1</td>\n",
       "      <td>8</td>\n",
       "      <td>2</td>\n",
       "      <td>1</td>\n",
       "      <td>0</td>\n",
       "      <td>...</td>\n",
       "      <td>1</td>\n",
       "      <td>3</td>\n",
       "      <td>1</td>\n",
       "      <td>2</td>\n",
       "      <td>1</td>\n",
       "      <td>2</td>\n",
       "      <td>5</td>\n",
       "      <td>4</td>\n",
       "      <td>2</td>\n",
       "      <td>2</td>\n",
       "    </tr>\n",
       "    <tr>\n",
       "      <th>22</th>\n",
       "      <td>5</td>\n",
       "      <td>53</td>\n",
       "      <td>7270.703541</td>\n",
       "      <td>2</td>\n",
       "      <td>19</td>\n",
       "      <td>1</td>\n",
       "      <td>8</td>\n",
       "      <td>2</td>\n",
       "      <td>1</td>\n",
       "      <td>0</td>\n",
       "      <td>...</td>\n",
       "      <td>1</td>\n",
       "      <td>3</td>\n",
       "      <td>1</td>\n",
       "      <td>3</td>\n",
       "      <td>1</td>\n",
       "      <td>2</td>\n",
       "      <td>5</td>\n",
       "      <td>5</td>\n",
       "      <td>2</td>\n",
       "      <td>2</td>\n",
       "    </tr>\n",
       "    <tr>\n",
       "      <th>23</th>\n",
       "      <td>5</td>\n",
       "      <td>54</td>\n",
       "      <td>7383.866597</td>\n",
       "      <td>2</td>\n",
       "      <td>19</td>\n",
       "      <td>1</td>\n",
       "      <td>8</td>\n",
       "      <td>2</td>\n",
       "      <td>1</td>\n",
       "      <td>0</td>\n",
       "      <td>...</td>\n",
       "      <td>1</td>\n",
       "      <td>3</td>\n",
       "      <td>1</td>\n",
       "      <td>3</td>\n",
       "      <td>1</td>\n",
       "      <td>2</td>\n",
       "      <td>5</td>\n",
       "      <td>5</td>\n",
       "      <td>2</td>\n",
       "      <td>2</td>\n",
       "    </tr>\n",
       "    <tr>\n",
       "      <th>24</th>\n",
       "      <td>5</td>\n",
       "      <td>55</td>\n",
       "      <td>7330.537669</td>\n",
       "      <td>2</td>\n",
       "      <td>19</td>\n",
       "      <td>1</td>\n",
       "      <td>8</td>\n",
       "      <td>2</td>\n",
       "      <td>1</td>\n",
       "      <td>0</td>\n",
       "      <td>...</td>\n",
       "      <td>1</td>\n",
       "      <td>3</td>\n",
       "      <td>1</td>\n",
       "      <td>2</td>\n",
       "      <td>1</td>\n",
       "      <td>2</td>\n",
       "      <td>5</td>\n",
       "      <td>4</td>\n",
       "      <td>2</td>\n",
       "      <td>2</td>\n",
       "    </tr>\n",
       "  </tbody>\n",
       "</table>\n",
       "<p>5 rows × 357 columns</p>\n",
       "</div>"
      ],
      "text/plain": [
       "    YY1  Y1          WGT  HHSEX  AGE  AGECL  EDUC  EDCL  MARRIED  KIDS  ...  \\\n",
       "20    5  51  7191.481109      2   19      1     8     2        1     0  ...   \n",
       "21    5  52  7352.487205      2   19      1     8     2        1     0  ...   \n",
       "22    5  53  7270.703541      2   19      1     8     2        1     0  ...   \n",
       "23    5  54  7383.866597      2   19      1     8     2        1     0  ...   \n",
       "24    5  55  7330.537669      2   19      1     8     2        1     0  ...   \n",
       "\n",
       "    NWCAT  INCCAT  ASSETCAT  NINCCAT  NINC2CAT  NWPCTLECAT  INCPCTLECAT  \\\n",
       "20      1       3         1        2         1           2            5   \n",
       "21      1       3         1        2         1           2            5   \n",
       "22      1       3         1        3         1           2            5   \n",
       "23      1       3         1        3         1           2            5   \n",
       "24      1       3         1        2         1           2            5   \n",
       "\n",
       "    NINCPCTLECAT  INCQRTCAT  NINCQRTCAT  \n",
       "20             4          2           2  \n",
       "21             4          2           2  \n",
       "22             5          2           2  \n",
       "23             5          2           2  \n",
       "24             4          2           2  \n",
       "\n",
       "[5 rows x 357 columns]"
      ]
     },
     "execution_count": 7,
     "metadata": {},
     "output_type": "execute_result"
    }
   ],
   "source": [
    "print(df_fear.shape)\n",
    "df_fear.head()"
   ]
  },
  {
   "cell_type": "markdown",
   "id": "ff9d06c2",
   "metadata": {},
   "source": [
    "# Build Dashboard"
   ]
  },
  {
   "cell_type": "code",
   "execution_count": 8,
   "id": "b0579ddc",
   "metadata": {},
   "outputs": [
    {
     "name": "stdout",
     "output_type": "stream",
     "text": [
      "app type: <class 'jupyter_dash.jupyter_app.JupyterDash'>\n"
     ]
    },
    {
     "name": "stderr",
     "output_type": "stream",
     "text": [
      "C:\\Users\\DEMERCHANT_HART\\PycharmProjects\\pythonProject\\venv\\lib\\site-packages\\dash\\dash.py:539: UserWarning:\n",
      "\n",
      "JupyterDash is deprecated, use Dash instead.\n",
      "See https://dash.plotly.com/dash-in-jupyter for more details.\n",
      "\n"
     ]
    }
   ],
   "source": [
    "# Instantiate a JupyterDash\n",
    "app = JupyterDash(__name__)\n",
    "\n",
    "print(\"app type:\", type(app))"
   ]
  },
  {
   "cell_type": "code",
   "execution_count": 9,
   "id": "d0a9d04d",
   "metadata": {},
   "outputs": [],
   "source": [
    "app.layout = html.Div(\n",
    "    [\n",
    "        #application title\n",
    "        html.H1(\"Survey of Consumer Finances\"),\n",
    "        #bar chart\n",
    "        html.H2(\"High Variance Features\"),\n",
    "        #placeholder for variance graph/chart\n",
    "        dcc.Graph(id=\"bar-chart\"),\n",
    "        #Radio button to switch from trimmed to non trimmed\n",
    "        dcc.RadioItems(\n",
    "            options=[\n",
    "                {\"label\": \"Trimmed\", \"value\": True},\n",
    "                {\"label\": \"Not-Trimmed\", \"value\": False}\n",
    "            ],\n",
    "            value=True,\n",
    "            id=\"trim-button\"\n",
    "        ),\n",
    "        # K-Means slider\n",
    "        html.H2(\"K-Means Clustering\"),\n",
    "        html.H3(\"Number of Clusters (K)\"),\n",
    "        dcc.Slider(min=2, max=10, step=1, value=2, id=\"K-slider\"),\n",
    "        #add a section\n",
    "        html.Div(id=\"metrics\"),\n",
    "        #placeholder for pca graph/chart\n",
    "        dcc.Graph(id=\"pca-scatter\")\n",
    "    ]\n",
    ")"
   ]
  },
  {
   "cell_type": "markdown",
   "id": "91b1cdc2",
   "metadata": {},
   "source": [
    "## Variance bar chart"
   ]
  },
  {
   "cell_type": "code",
   "execution_count": 10,
   "id": "0f07d806",
   "metadata": {},
   "outputs": [],
   "source": [
    "def get_high_var_features(trimmed=True, return_feat_name=True):\n",
    "    #calculate variance\n",
    "    if trimmed:\n",
    "        top_five_features=(\n",
    "            df_fear.apply(trimmed_var).sort_values().tail(5)\n",
    "        )\n",
    "    else:\n",
    "        top_five_features= df_fear.var().sort_values().tail(5)\n",
    "     #extract names\n",
    "    if return_feat_name:\n",
    "        top_five_features= top_five_features.index.tolist()    \n",
    "        \n",
    "    return top_five_features"
   ]
  },
  {
   "cell_type": "code",
   "execution_count": null,
   "id": "e4b94207",
   "metadata": {},
   "outputs": [],
   "source": [
    "get_high_var_features(trimmed=True, return_feat_name=True)"
   ]
  },
  {
   "cell_type": "code",
   "execution_count": 11,
   "id": "1d08b3a4",
   "metadata": {},
   "outputs": [],
   "source": [
    "#callback for high variance\n",
    "@app.callback(\n",
    "    Output(\"bar-chart\", \"figure\"), \n",
    "    Input(\"trim-button\", \"value\")\n",
    ")\n",
    "def serve_bar_chart(trimmed=True):\n",
    "    #Get features\n",
    "    top_five_features = get_high_var_features(trimmed=trimmed, return_feat_name=False)\n",
    "    #build bar chart\n",
    "    fig= px.bar(x= (top_five_features)/1e6, y=top_five_features.index, orientation=\"h\")\n",
    "    fig.update_layout(xaxis_title=\"variance\", yaxis_title=\"features\")\n",
    "    return fig"
   ]
  },
  {
   "cell_type": "markdown",
   "id": "154ab373",
   "metadata": {},
   "source": [
    "## K-means Slider and Metrics"
   ]
  },
  {
   "cell_type": "code",
   "execution_count": 12,
   "id": "acd7ac78",
   "metadata": {},
   "outputs": [],
   "source": [
    "def get_model_metrics(trimmed= True, K=2, return_metrics=False):\n",
    "    #get high var features\n",
    "    features = get_high_var_features(trimmed= trimmed, return_feat_name=True)\n",
    "    #create features\n",
    "    X = df_fear[features]\n",
    "    \n",
    "    #build model\n",
    "    model = make_pipeline(\n",
    "        StandardScaler(),\n",
    "        KMeans(n_clusters=K, random_state=42)\n",
    "    )\n",
    "    model.fit(X)\n",
    "    if return_metrics:\n",
    "        #calculate inertia\n",
    "        i = model.named_steps[\"kmeans\"].inertia_\n",
    "        #calculate silhouette score\n",
    "        ss = silhouette_score(X, model.named_steps[\"kmeans\"].labels_)\n",
    "        \n",
    "        #put result in a dictionary\n",
    "        metrics={\n",
    "            \"inertia\": round(i),\n",
    "            \"sillouette\": round(ss, 3)\n",
    "        }\n",
    "        #return to the user\n",
    "        return metrics\n",
    "    \n",
    "    return model"
   ]
  },
  {
   "cell_type": "code",
   "execution_count": null,
   "id": "6ac5e72e",
   "metadata": {},
   "outputs": [],
   "source": [
    "get_model_metrics(trimmed=True, K=5, return_metrics=True)"
   ]
  },
  {
   "cell_type": "code",
   "execution_count": 13,
   "id": "a7bb67c4",
   "metadata": {},
   "outputs": [],
   "source": [
    "#callback for k-means\n",
    "@app.callback(\n",
    "    Output(\"metrics\", \"children\"),\n",
    "    Input(\"trim-button\", \"value\"),\n",
    "    Input(\"K-slider\", \"value\")\n",
    ")\n",
    "def serve_metrics(trimmed=True, K=2):\n",
    "    #get metrics\n",
    "    metrics = get_model_metrics(trimmed=trimmed, K=K, return_metrics=True)\n",
    "    #add metrics to html element\n",
    "    text = [\n",
    "        html.H3(f\"inertia: {metrics['inertia']}\"),\n",
    "        html.H3(f\"silhouette score: {metrics['sillouette']}\")\n",
    "    ]\n",
    "    return text"
   ]
  },
  {
   "cell_type": "code",
   "execution_count": null,
   "id": "e39c468c",
   "metadata": {},
   "outputs": [],
   "source": [
    "serve_metrics()"
   ]
  },
  {
   "cell_type": "markdown",
   "id": "0017a20c",
   "metadata": {},
   "source": [
    "## PCA Scatter Plot"
   ]
  },
  {
   "cell_type": "code",
   "execution_count": 14,
   "id": "280ec901",
   "metadata": {},
   "outputs": [],
   "source": [
    "def get_pca_labels(trimmed=True, K=2):\n",
    "    #create feature matrics\n",
    "    features= get_high_var_features(trimmed=trimmed, return_feat_name=True)\n",
    "    X = df_fear[features]\n",
    "    \n",
    "    #transformer\n",
    "    transformer = PCA(n_components=2, random_state=42)\n",
    "    x_t = transformer.fit_transform(X)\n",
    "    X_pca = pd.DataFrame(x_t, columns=[\"PC1\", \"PC2\"])\n",
    "    \n",
    "    #add labels\n",
    "    model = get_model_metrics(trimmed=trimmed, K=K, return_metrics=False)\n",
    "    X_pca[\"labels\"]= model.named_steps[\"kmeans\"].labels_.astype(str)\n",
    "    X_pca.sort_values(\"labels\", inplace=True)\n",
    "    return X_pca"
   ]
  },
  {
   "cell_type": "code",
   "execution_count": null,
   "id": "be26e276",
   "metadata": {},
   "outputs": [],
   "source": [
    "get_pca_labels().tail()"
   ]
  },
  {
   "cell_type": "code",
   "execution_count": 15,
   "id": "60577d0d",
   "metadata": {},
   "outputs": [],
   "source": [
    "#callback for pca scatter plot\n",
    "@app.callback(\n",
    "    Output(\"pca-scatter\", \"figure\"),\n",
    "    Input(\"trim-button\", \"value\"),\n",
    "    Input(\"K-slider\", \"value\")\n",
    ")\n",
    "\n",
    "def serve_scatter_plot(trimmed=True, K=2):\n",
    "    fig=px.scatter(\n",
    "        data_frame=get_pca_labels(trimmed=trimmed, K=K),\n",
    "        x=\"PC1\",\n",
    "        y=\"PC2\",\n",
    "        color=\"labels\",\n",
    "        title=\"PCA representation of clusters\"\n",
    "    )\n",
    "    fig.update_layout(xaxis_title=\"PC1\", yaxis_title=\"PC2\")\n",
    "    return fig"
   ]
  },
  {
   "cell_type": "code",
   "execution_count": 16,
   "id": "711dea56",
   "metadata": {},
   "outputs": [
    {
     "data": {
      "text/html": [
       "\n",
       "        <iframe\n",
       "            width=\"100%\"\n",
       "            height=\"650\"\n",
       "            src=\"http://127.0.0.1:8050/\"\n",
       "            frameborder=\"0\"\n",
       "            allowfullscreen\n",
       "            \n",
       "        ></iframe>\n",
       "        "
      ],
      "text/plain": [
       "<IPython.lib.display.IFrame at 0x1d47a95e608>"
      ]
     },
     "metadata": {},
     "output_type": "display_data"
    },
    {
     "name": "stdout",
     "output_type": "stream",
     "text": [
      "Dash app running on http://127.0.0.1:8050/\n"
     ]
    }
   ],
   "source": [
    "if __name__ == '__main__':\n",
    "    app.run_server(debug=True)"
   ]
  },
  {
   "cell_type": "code",
   "execution_count": null,
   "id": "b232899f",
   "metadata": {},
   "outputs": [],
   "source": []
  },
  {
   "cell_type": "code",
   "execution_count": null,
   "id": "10fc0b2a",
   "metadata": {},
   "outputs": [],
   "source": []
  }
 ],
 "metadata": {
  "kernelspec": {
   "display_name": "Python 3 (ipykernel)",
   "language": "python",
   "name": "python3"
  },
  "language_info": {
   "codemirror_mode": {
    "name": "ipython",
    "version": 3
   },
   "file_extension": ".py",
   "mimetype": "text/x-python",
   "name": "python",
   "nbconvert_exporter": "python",
   "pygments_lexer": "ipython3",
   "version": "3.7.9"
  }
 },
 "nbformat": 4,
 "nbformat_minor": 5
}
